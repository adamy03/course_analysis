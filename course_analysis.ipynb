{
 "cells": [
  {
   "cell_type": "markdown",
   "metadata": {},
   "source": [
    "# **UMD CS courses: What do the reviews say?**\n",
    "*CMSC320 <br>\n",
    "Professor Morawski, Fall 2022* <br>\n",
    "*Adam Yang (ayang115@umd.edu)*\n",
    "\n"
   ]
  },
  {
   "cell_type": "code",
   "execution_count": 2,
   "metadata": {},
   "outputs": [],
   "source": [
    "import planetterp as pt\n",
    "import pandas as pd"
   ]
  },
  {
   "cell_type": "markdown",
   "metadata": {},
   "source": [
    "Objectives:\n",
    "* clean data to have professor, course number, grade data, no credits, title, average score\n",
    "* create sentiment analysis for reviews\n",
    "* compare sentiment to reviews\n",
    "* compare grade to reviews\n",
    "* rank sentiment by rating\n",
    "* rank grade by rating\n",
    "\n",
    "Questions:\n",
    "1. What deems a course to be good?\n",
    "2. Which professors are the best for each course?\n",
    "3. What kind of sentiments are present for highly rated professors"
   ]
  },
  {
   "cell_type": "code",
   "execution_count": 3,
   "metadata": {},
   "outputs": [],
   "source": [
    "ugrad_courses = pd.DataFrame(pt.courses(department=\"CMSC\", reviews=True))\n",
    "ugrad_courses.to_csv(\"cmsc_courses\")\n",
    "\n",
    "ugrad_courses = ugrad_courses[ugrad_courses[\"course_number\"] < \"500\"]\n",
    "ugrad_courses[\"sub_code\"] = ugrad_courses[\"course_number\"].apply(lambda x: x[3] if len(x) > 3 else 0) "
   ]
  },
  {
   "cell_type": "code",
   "execution_count": 4,
   "metadata": {},
   "outputs": [
    {
     "data": {
      "text/html": [
       "<div>\n",
       "<style scoped>\n",
       "    .dataframe tbody tr th:only-of-type {\n",
       "        vertical-align: middle;\n",
       "    }\n",
       "\n",
       "    .dataframe tbody tr th {\n",
       "        vertical-align: top;\n",
       "    }\n",
       "\n",
       "    .dataframe thead th {\n",
       "        text-align: right;\n",
       "    }\n",
       "</style>\n",
       "<table border=\"1\" class=\"dataframe\">\n",
       "  <thead>\n",
       "    <tr style=\"text-align: right;\">\n",
       "      <th></th>\n",
       "      <th>average_gpa</th>\n",
       "      <th>professors</th>\n",
       "      <th>reviews</th>\n",
       "      <th>department</th>\n",
       "      <th>course_number</th>\n",
       "      <th>name</th>\n",
       "      <th>title</th>\n",
       "      <th>credits</th>\n",
       "      <th>description</th>\n",
       "      <th>is_recent</th>\n",
       "      <th>sub_code</th>\n",
       "    </tr>\n",
       "  </thead>\n",
       "  <tbody>\n",
       "    <tr>\n",
       "      <th>0</th>\n",
       "      <td>3.199664</td>\n",
       "      <td>[Atif Memon, Adam Porter, Charles Song, Vibha ...</td>\n",
       "      <td>[{'professor': 'Adam Porter', 'course': 'CMSC4...</td>\n",
       "      <td>CMSC</td>\n",
       "      <td>436</td>\n",
       "      <td>CMSC436</td>\n",
       "      <td>Programming Handheld Systems</td>\n",
       "      <td>3.0</td>\n",
       "      <td>&lt;b&gt;Prerequisite:&lt;/b&gt; Minimum grade of C- in CM...</td>\n",
       "      <td>True</td>\n",
       "      <td>0</td>\n",
       "    </tr>\n",
       "    <tr>\n",
       "      <th>1</th>\n",
       "      <td>2.672616</td>\n",
       "      <td>[Amol Deshpande, Nicholas Roussopoulos, Peter ...</td>\n",
       "      <td>[{'professor': 'Amol Deshpande', 'course': 'CM...</td>\n",
       "      <td>CMSC</td>\n",
       "      <td>424</td>\n",
       "      <td>CMSC424</td>\n",
       "      <td>Database Design</td>\n",
       "      <td>3.0</td>\n",
       "      <td>&lt;b&gt;Prerequisite:&lt;/b&gt; Minimum grade of C- in CM...</td>\n",
       "      <td>True</td>\n",
       "      <td>0</td>\n",
       "    </tr>\n",
       "    <tr>\n",
       "      <th>2</th>\n",
       "      <td>3.461364</td>\n",
       "      <td>[Charles Kassir, Amy Vaillancourt, Alyssa Neun...</td>\n",
       "      <td>[{'professor': 'Corie Brown', 'course': 'CMSC1...</td>\n",
       "      <td>CMSC</td>\n",
       "      <td>100</td>\n",
       "      <td>CMSC100</td>\n",
       "      <td>Bits and Bytes of Computer and Information Sci...</td>\n",
       "      <td>1.0</td>\n",
       "      <td>&lt;b&gt;Restriction:&lt;/b&gt; For first time freshmen an...</td>\n",
       "      <td>True</td>\n",
       "      <td>0</td>\n",
       "    </tr>\n",
       "    <tr>\n",
       "      <th>4</th>\n",
       "      <td>2.449417</td>\n",
       "      <td>[Alan Sussman, Larry Herman, Neil Spring, Nels...</td>\n",
       "      <td>[{'professor': 'Nelson Padua-Perez', 'course':...</td>\n",
       "      <td>CMSC</td>\n",
       "      <td>216</td>\n",
       "      <td>CMSC216</td>\n",
       "      <td>Introduction to Computer Systems</td>\n",
       "      <td>4.0</td>\n",
       "      <td>&lt;b&gt;Prerequisite:&lt;/b&gt; Minimum grade of C- in CM...</td>\n",
       "      <td>True</td>\n",
       "      <td>0</td>\n",
       "    </tr>\n",
       "    <tr>\n",
       "      <th>5</th>\n",
       "      <td>2.746843</td>\n",
       "      <td>[Chau-Wen Tseng, Larry Herman, Dave Levin, Mic...</td>\n",
       "      <td>[{'professor': 'Jeffrey Foster', 'course': 'CM...</td>\n",
       "      <td>CMSC</td>\n",
       "      <td>330</td>\n",
       "      <td>CMSC330</td>\n",
       "      <td>Organization of Programming Languages</td>\n",
       "      <td>3.0</td>\n",
       "      <td>&lt;b&gt;Prerequisite:&lt;/b&gt; Minimum grade of C- in CM...</td>\n",
       "      <td>True</td>\n",
       "      <td>0</td>\n",
       "    </tr>\n",
       "  </tbody>\n",
       "</table>\n",
       "</div>"
      ],
      "text/plain": [
       "   average_gpa                                         professors  \\\n",
       "0     3.199664  [Atif Memon, Adam Porter, Charles Song, Vibha ...   \n",
       "1     2.672616  [Amol Deshpande, Nicholas Roussopoulos, Peter ...   \n",
       "2     3.461364  [Charles Kassir, Amy Vaillancourt, Alyssa Neun...   \n",
       "4     2.449417  [Alan Sussman, Larry Herman, Neil Spring, Nels...   \n",
       "5     2.746843  [Chau-Wen Tseng, Larry Herman, Dave Levin, Mic...   \n",
       "\n",
       "                                             reviews department course_number  \\\n",
       "0  [{'professor': 'Adam Porter', 'course': 'CMSC4...       CMSC           436   \n",
       "1  [{'professor': 'Amol Deshpande', 'course': 'CM...       CMSC           424   \n",
       "2  [{'professor': 'Corie Brown', 'course': 'CMSC1...       CMSC           100   \n",
       "4  [{'professor': 'Nelson Padua-Perez', 'course':...       CMSC           216   \n",
       "5  [{'professor': 'Jeffrey Foster', 'course': 'CM...       CMSC           330   \n",
       "\n",
       "      name                                              title  credits  \\\n",
       "0  CMSC436                       Programming Handheld Systems      3.0   \n",
       "1  CMSC424                                    Database Design      3.0   \n",
       "2  CMSC100  Bits and Bytes of Computer and Information Sci...      1.0   \n",
       "4  CMSC216                   Introduction to Computer Systems      4.0   \n",
       "5  CMSC330              Organization of Programming Languages      3.0   \n",
       "\n",
       "                                         description  is_recent sub_code  \n",
       "0  <b>Prerequisite:</b> Minimum grade of C- in CM...       True        0  \n",
       "1  <b>Prerequisite:</b> Minimum grade of C- in CM...       True        0  \n",
       "2  <b>Restriction:</b> For first time freshmen an...       True        0  \n",
       "4  <b>Prerequisite:</b> Minimum grade of C- in CM...       True        0  \n",
       "5  <b>Prerequisite:</b> Minimum grade of C- in CM...       True        0  "
      ]
     },
     "execution_count": 4,
     "metadata": {},
     "output_type": "execute_result"
    }
   ],
   "source": [
    "ugrad_courses.head()"
   ]
  },
  {
   "cell_type": "markdown",
   "metadata": {},
   "source": [
    "**Description of Data**"
   ]
  },
  {
   "cell_type": "markdown",
   "metadata": {},
   "source": [
    "For this project, data regarding UMD courses is used. Using the [Planetterp API](https://planetterp.com/api/#tag/Search/operation/Search), course information was extracted into a dataframe. <br>\n",
    "<br>\n",
    "Course Information:<br>\n",
    "Grouped by term, course information includes instructors, department, course code, course title, number of credits, prerequisites, course recency, and a dictionary containing reviews. For the purposes of this project, only undergraduate computer science courses (courses with heading CMSC and coded with value 500 or less) were studied."
   ]
  },
  {
   "cell_type": "code",
   "execution_count": null,
   "metadata": {},
   "outputs": [],
   "source": []
  }
 ],
 "metadata": {
  "kernelspec": {
   "display_name": "Python 3.8.8 ('320final')",
   "language": "python",
   "name": "python3"
  },
  "language_info": {
   "codemirror_mode": {
    "name": "ipython",
    "version": 3
   },
   "file_extension": ".py",
   "mimetype": "text/x-python",
   "name": "python",
   "nbconvert_exporter": "python",
   "pygments_lexer": "ipython3",
   "version": "3.8.8"
  },
  "orig_nbformat": 4,
  "vscode": {
   "interpreter": {
    "hash": "684419fce78d757f875573cbe0111f3fb7928df42ccb364b953488fb5e99ef41"
   }
  }
 },
 "nbformat": 4,
 "nbformat_minor": 2
}
